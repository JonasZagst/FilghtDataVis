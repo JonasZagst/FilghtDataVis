{
 "cells": [
  {
   "cell_type": "code",
   "execution_count": 47,
   "metadata": {
    "pycharm": {
     "name": "#%%\n"
    }
   },
   "outputs": [],
   "source": [
    "#Imports\n",
    "import pandas as pd\n",
    "import numpy as np\n",
    "import matplotlib.pyplot as plt\n",
    "import geopandas as gpd"
   ]
  },
  {
   "cell_type": "code",
   "execution_count": 48,
   "metadata": {
    "pycharm": {
     "name": "#%%\n"
    }
   },
   "outputs": [
    {
     "data": {
      "text/html": [
       "<div>\n",
       "<style scoped>\n",
       "    .dataframe tbody tr th:only-of-type {\n",
       "        vertical-align: middle;\n",
       "    }\n",
       "\n",
       "    .dataframe tbody tr th {\n",
       "        vertical-align: top;\n",
       "    }\n",
       "\n",
       "    .dataframe thead th {\n",
       "        text-align: right;\n",
       "    }\n",
       "</style>\n",
       "<table border=\"1\" class=\"dataframe\">\n",
       "  <thead>\n",
       "    <tr style=\"text-align: right;\">\n",
       "      <th></th>\n",
       "      <th>Timestamp</th>\n",
       "      <th>UTC</th>\n",
       "      <th>Callsign</th>\n",
       "      <th>Position</th>\n",
       "      <th>Altitude</th>\n",
       "      <th>Speed</th>\n",
       "      <th>Direction</th>\n",
       "    </tr>\n",
       "  </thead>\n",
       "  <tbody>\n",
       "    <tr>\n",
       "      <th>0</th>\n",
       "      <td>1621754943</td>\n",
       "      <td>2021-05-23T07:29:03Z</td>\n",
       "      <td>RYR1TZ</td>\n",
       "      <td>37.943665,23.962408</td>\n",
       "      <td>125</td>\n",
       "      <td>145</td>\n",
       "      <td>37</td>\n",
       "    </tr>\n",
       "    <tr>\n",
       "      <th>1</th>\n",
       "      <td>1621754953</td>\n",
       "      <td>2021-05-23T07:29:13Z</td>\n",
       "      <td>RYR1TZ</td>\n",
       "      <td>37.949295,23.967785</td>\n",
       "      <td>325</td>\n",
       "      <td>161</td>\n",
       "      <td>37</td>\n",
       "    </tr>\n",
       "    <tr>\n",
       "      <th>2</th>\n",
       "      <td>1621754966</td>\n",
       "      <td>2021-05-23T07:29:26Z</td>\n",
       "      <td>RYR1TZ</td>\n",
       "      <td>37.956924,23.975273</td>\n",
       "      <td>900</td>\n",
       "      <td>156</td>\n",
       "      <td>37</td>\n",
       "    </tr>\n",
       "    <tr>\n",
       "      <th>3</th>\n",
       "      <td>1621754978</td>\n",
       "      <td>2021-05-23T07:29:38Z</td>\n",
       "      <td>RYR1TZ</td>\n",
       "      <td>37.964096,23.982319</td>\n",
       "      <td>1425</td>\n",
       "      <td>156</td>\n",
       "      <td>37</td>\n",
       "    </tr>\n",
       "    <tr>\n",
       "      <th>4</th>\n",
       "      <td>1621754988</td>\n",
       "      <td>2021-05-23T07:29:48Z</td>\n",
       "      <td>RYR1TZ</td>\n",
       "      <td>37.96994,23.987888</td>\n",
       "      <td>1775</td>\n",
       "      <td>160</td>\n",
       "      <td>37</td>\n",
       "    </tr>\n",
       "    <tr>\n",
       "      <th>...</th>\n",
       "      <td>...</td>\n",
       "      <td>...</td>\n",
       "      <td>...</td>\n",
       "      <td>...</td>\n",
       "      <td>...</td>\n",
       "      <td>...</td>\n",
       "      <td>...</td>\n",
       "    </tr>\n",
       "    <tr>\n",
       "      <th>517</th>\n",
       "      <td>1621765273</td>\n",
       "      <td>2021-05-23T10:21:13Z</td>\n",
       "      <td>RYR1TZ</td>\n",
       "      <td>53.887104,28.027693</td>\n",
       "      <td>0</td>\n",
       "      <td>24</td>\n",
       "      <td>317</td>\n",
       "    </tr>\n",
       "    <tr>\n",
       "      <th>518</th>\n",
       "      <td>1621765279</td>\n",
       "      <td>2021-05-23T10:21:19Z</td>\n",
       "      <td>RYR1TZ</td>\n",
       "      <td>53.88763,28.026928</td>\n",
       "      <td>0</td>\n",
       "      <td>25</td>\n",
       "      <td>317</td>\n",
       "    </tr>\n",
       "    <tr>\n",
       "      <th>519</th>\n",
       "      <td>1621765291</td>\n",
       "      <td>2021-05-23T10:21:31Z</td>\n",
       "      <td>RYR1TZ</td>\n",
       "      <td>53.888683,28.025356</td>\n",
       "      <td>0</td>\n",
       "      <td>25</td>\n",
       "      <td>317</td>\n",
       "    </tr>\n",
       "    <tr>\n",
       "      <th>520</th>\n",
       "      <td>1621765302</td>\n",
       "      <td>2021-05-23T10:21:42Z</td>\n",
       "      <td>RYR1TZ</td>\n",
       "      <td>53.889221,28.024548</td>\n",
       "      <td>0</td>\n",
       "      <td>6</td>\n",
       "      <td>317</td>\n",
       "    </tr>\n",
       "    <tr>\n",
       "      <th>521</th>\n",
       "      <td>1621765367</td>\n",
       "      <td>2021-05-23T10:22:47Z</td>\n",
       "      <td>RYR1TZ</td>\n",
       "      <td>53.889908,28.024298</td>\n",
       "      <td>0</td>\n",
       "      <td>8</td>\n",
       "      <td>39</td>\n",
       "    </tr>\n",
       "  </tbody>\n",
       "</table>\n",
       "<p>522 rows × 7 columns</p>\n",
       "</div>"
      ],
      "text/plain": [
       "      Timestamp                   UTC Callsign             Position  Altitude  \\\n",
       "0    1621754943  2021-05-23T07:29:03Z   RYR1TZ  37.943665,23.962408       125   \n",
       "1    1621754953  2021-05-23T07:29:13Z   RYR1TZ  37.949295,23.967785       325   \n",
       "2    1621754966  2021-05-23T07:29:26Z   RYR1TZ  37.956924,23.975273       900   \n",
       "3    1621754978  2021-05-23T07:29:38Z   RYR1TZ  37.964096,23.982319      1425   \n",
       "4    1621754988  2021-05-23T07:29:48Z   RYR1TZ   37.96994,23.987888      1775   \n",
       "..          ...                   ...      ...                  ...       ...   \n",
       "517  1621765273  2021-05-23T10:21:13Z   RYR1TZ  53.887104,28.027693         0   \n",
       "518  1621765279  2021-05-23T10:21:19Z   RYR1TZ   53.88763,28.026928         0   \n",
       "519  1621765291  2021-05-23T10:21:31Z   RYR1TZ  53.888683,28.025356         0   \n",
       "520  1621765302  2021-05-23T10:21:42Z   RYR1TZ  53.889221,28.024548         0   \n",
       "521  1621765367  2021-05-23T10:22:47Z   RYR1TZ  53.889908,28.024298         0   \n",
       "\n",
       "     Speed  Direction  \n",
       "0      145         37  \n",
       "1      161         37  \n",
       "2      156         37  \n",
       "3      156         37  \n",
       "4      160         37  \n",
       "..     ...        ...  \n",
       "517     24        317  \n",
       "518     25        317  \n",
       "519     25        317  \n",
       "520      6        317  \n",
       "521      8         39  \n",
       "\n",
       "[522 rows x 7 columns]"
      ]
     },
     "execution_count": 48,
     "metadata": {},
     "output_type": "execute_result"
    }
   ],
   "source": [
    "#Data\n",
    "df_belarus = pd.read_csv(\"Dateien/Flug_Belarus.csv\", sep=\",\")\n",
    "df_belarus"
   ]
  },
  {
   "cell_type": "code",
   "execution_count": 49,
   "metadata": {
    "pycharm": {
     "name": "#%%\n"
    }
   },
   "outputs": [
    {
     "data": {
      "text/html": [
       "<div>\n",
       "<style scoped>\n",
       "    .dataframe tbody tr th:only-of-type {\n",
       "        vertical-align: middle;\n",
       "    }\n",
       "\n",
       "    .dataframe tbody tr th {\n",
       "        vertical-align: top;\n",
       "    }\n",
       "\n",
       "    .dataframe thead th {\n",
       "        text-align: right;\n",
       "    }\n",
       "</style>\n",
       "<table border=\"1\" class=\"dataframe\">\n",
       "  <thead>\n",
       "    <tr style=\"text-align: right;\">\n",
       "      <th></th>\n",
       "      <th>Timestamp</th>\n",
       "      <th>UTC</th>\n",
       "      <th>Callsign</th>\n",
       "      <th>Position</th>\n",
       "      <th>Altitude</th>\n",
       "      <th>Speed</th>\n",
       "      <th>Direction</th>\n",
       "    </tr>\n",
       "  </thead>\n",
       "  <tbody>\n",
       "    <tr>\n",
       "      <th>0</th>\n",
       "      <td>1621754943</td>\n",
       "      <td>2021-05-23 07:29:03</td>\n",
       "      <td>RYR1TZ</td>\n",
       "      <td>37.943665,23.962408</td>\n",
       "      <td>125</td>\n",
       "      <td>145</td>\n",
       "      <td>37</td>\n",
       "    </tr>\n",
       "    <tr>\n",
       "      <th>1</th>\n",
       "      <td>1621754953</td>\n",
       "      <td>2021-05-23 07:29:13</td>\n",
       "      <td>RYR1TZ</td>\n",
       "      <td>37.949295,23.967785</td>\n",
       "      <td>325</td>\n",
       "      <td>161</td>\n",
       "      <td>37</td>\n",
       "    </tr>\n",
       "    <tr>\n",
       "      <th>2</th>\n",
       "      <td>1621754966</td>\n",
       "      <td>2021-05-23 07:29:26</td>\n",
       "      <td>RYR1TZ</td>\n",
       "      <td>37.956924,23.975273</td>\n",
       "      <td>900</td>\n",
       "      <td>156</td>\n",
       "      <td>37</td>\n",
       "    </tr>\n",
       "    <tr>\n",
       "      <th>3</th>\n",
       "      <td>1621754978</td>\n",
       "      <td>2021-05-23 07:29:38</td>\n",
       "      <td>RYR1TZ</td>\n",
       "      <td>37.964096,23.982319</td>\n",
       "      <td>1425</td>\n",
       "      <td>156</td>\n",
       "      <td>37</td>\n",
       "    </tr>\n",
       "    <tr>\n",
       "      <th>4</th>\n",
       "      <td>1621754988</td>\n",
       "      <td>2021-05-23 07:29:48</td>\n",
       "      <td>RYR1TZ</td>\n",
       "      <td>37.96994,23.987888</td>\n",
       "      <td>1775</td>\n",
       "      <td>160</td>\n",
       "      <td>37</td>\n",
       "    </tr>\n",
       "    <tr>\n",
       "      <th>...</th>\n",
       "      <td>...</td>\n",
       "      <td>...</td>\n",
       "      <td>...</td>\n",
       "      <td>...</td>\n",
       "      <td>...</td>\n",
       "      <td>...</td>\n",
       "      <td>...</td>\n",
       "    </tr>\n",
       "    <tr>\n",
       "      <th>517</th>\n",
       "      <td>1621765273</td>\n",
       "      <td>2021-05-23 10:21:13</td>\n",
       "      <td>RYR1TZ</td>\n",
       "      <td>53.887104,28.027693</td>\n",
       "      <td>0</td>\n",
       "      <td>24</td>\n",
       "      <td>317</td>\n",
       "    </tr>\n",
       "    <tr>\n",
       "      <th>518</th>\n",
       "      <td>1621765279</td>\n",
       "      <td>2021-05-23 10:21:19</td>\n",
       "      <td>RYR1TZ</td>\n",
       "      <td>53.88763,28.026928</td>\n",
       "      <td>0</td>\n",
       "      <td>25</td>\n",
       "      <td>317</td>\n",
       "    </tr>\n",
       "    <tr>\n",
       "      <th>519</th>\n",
       "      <td>1621765291</td>\n",
       "      <td>2021-05-23 10:21:31</td>\n",
       "      <td>RYR1TZ</td>\n",
       "      <td>53.888683,28.025356</td>\n",
       "      <td>0</td>\n",
       "      <td>25</td>\n",
       "      <td>317</td>\n",
       "    </tr>\n",
       "    <tr>\n",
       "      <th>520</th>\n",
       "      <td>1621765302</td>\n",
       "      <td>2021-05-23 10:21:42</td>\n",
       "      <td>RYR1TZ</td>\n",
       "      <td>53.889221,28.024548</td>\n",
       "      <td>0</td>\n",
       "      <td>6</td>\n",
       "      <td>317</td>\n",
       "    </tr>\n",
       "    <tr>\n",
       "      <th>521</th>\n",
       "      <td>1621765367</td>\n",
       "      <td>2021-05-23 10:22:47</td>\n",
       "      <td>RYR1TZ</td>\n",
       "      <td>53.889908,28.024298</td>\n",
       "      <td>0</td>\n",
       "      <td>8</td>\n",
       "      <td>39</td>\n",
       "    </tr>\n",
       "  </tbody>\n",
       "</table>\n",
       "<p>522 rows × 7 columns</p>\n",
       "</div>"
      ],
      "text/plain": [
       "      Timestamp                 UTC Callsign             Position  Altitude  \\\n",
       "0    1621754943 2021-05-23 07:29:03   RYR1TZ  37.943665,23.962408       125   \n",
       "1    1621754953 2021-05-23 07:29:13   RYR1TZ  37.949295,23.967785       325   \n",
       "2    1621754966 2021-05-23 07:29:26   RYR1TZ  37.956924,23.975273       900   \n",
       "3    1621754978 2021-05-23 07:29:38   RYR1TZ  37.964096,23.982319      1425   \n",
       "4    1621754988 2021-05-23 07:29:48   RYR1TZ   37.96994,23.987888      1775   \n",
       "..          ...                 ...      ...                  ...       ...   \n",
       "517  1621765273 2021-05-23 10:21:13   RYR1TZ  53.887104,28.027693         0   \n",
       "518  1621765279 2021-05-23 10:21:19   RYR1TZ   53.88763,28.026928         0   \n",
       "519  1621765291 2021-05-23 10:21:31   RYR1TZ  53.888683,28.025356         0   \n",
       "520  1621765302 2021-05-23 10:21:42   RYR1TZ  53.889221,28.024548         0   \n",
       "521  1621765367 2021-05-23 10:22:47   RYR1TZ  53.889908,28.024298         0   \n",
       "\n",
       "     Speed  Direction  \n",
       "0      145         37  \n",
       "1      161         37  \n",
       "2      156         37  \n",
       "3      156         37  \n",
       "4      160         37  \n",
       "..     ...        ...  \n",
       "517     24        317  \n",
       "518     25        317  \n",
       "519     25        317  \n",
       "520      6        317  \n",
       "521      8         39  \n",
       "\n",
       "[522 rows x 7 columns]"
      ]
     },
     "execution_count": 49,
     "metadata": {},
     "output_type": "execute_result"
    }
   ],
   "source": [
    "#Anpassung der Zeit auf UTC Standard\n",
    "from datetime import datetime\n",
    "\n",
    "l_date =[]\n",
    "for i in range(len(df_belarus)):\n",
    "    date_time_str = df_belarus[\"UTC\"].iloc[i]\n",
    "    l_date.append(datetime.strptime(date_time_str, '%Y-%m-%dT%H:%M:%SZ'))\n",
    "\n",
    "df_belarus[\"UTC\"]=l_date\n",
    "df_belarus"
   ]
  },
  {
   "cell_type": "code",
   "execution_count": 50,
   "metadata": {
    "pycharm": {
     "name": "#%%\n"
    }
   },
   "outputs": [
    {
     "data": {
      "text/plain": [
       "array([[<AxesSubplot:title={'center':'Timestamp'}>,\n",
       "        <AxesSubplot:title={'center':'UTC'}>],\n",
       "       [<AxesSubplot:title={'center':'Altitude'}>,\n",
       "        <AxesSubplot:title={'center':'Speed'}>],\n",
       "       [<AxesSubplot:title={'center':'Direction'}>, <AxesSubplot:>]],\n",
       "      dtype=object)"
      ]
     },
     "execution_count": 50,
     "metadata": {},
     "output_type": "execute_result"
    },
    {
     "data": {
      "image/png": "[encoded data removed]",
      "text/plain": [
       "<Figure size 432x288 with 6 Axes>"
      ]
     },
     "metadata": {
      "needs_background": "light"
     },
     "output_type": "display_data"
    }
   ],
   "source": [
    "df_belarus.hist()"
   ]
  },
  {
   "cell_type": "code",
   "execution_count": 51,
   "metadata": {
    "pycharm": {
     "name": "#%%\n"
    }
   },
   "outputs": [
    {
     "data": {
      "text/plain": [
       "<AxesSubplot:>"
      ]
     },
     "execution_count": 51,
     "metadata": {},
     "output_type": "execute_result"
    },
    {
     "data": {
      "image/png": "[encoded data removed]",
      "text/plain": [
       "<Figure size 432x288 with 1 Axes>"
      ]
     },
     "metadata": {
      "needs_background": "light"
     },
     "output_type": "display_data"
    }
   ],
   "source": [
    "df_belarus[\"Altitude\"].hist()"
   ]
  },
  {
   "cell_type": "code",
   "execution_count": 52,
   "metadata": {
    "pycharm": {
     "name": "#%%\n"
    }
   },
   "outputs": [
    {
     "data": {
      "text/plain": [
       "<AxesSubplot:>"
      ]
     },
     "execution_count": 52,
     "metadata": {},
     "output_type": "execute_result"
    },
    {
     "data": {
      "image/png": "[encoded data removed]",
      "text/plain": [
       "<Figure size 432x288 with 1 Axes>"
      ]
     },
     "metadata": {
      "needs_background": "light"
     },
     "output_type": "display_data"
    }
   ],
   "source": [
    "df_belarus[\"Speed\"].hist()"
   ]
  },
  {
   "cell_type": "code",
   "execution_count": 53,
   "metadata": {
    "pycharm": {
     "name": "#%%\n"
    }
   },
   "outputs": [
    {
     "data": {
      "text/plain": [
       "<matplotlib.collections.PathCollection at 0x7fb3fa58a5e0>"
      ]
     },
     "execution_count": 53,
     "metadata": {},
     "output_type": "execute_result"
    },
    {
     "data": {
      "image/png": "[encoded data removed]",
      "text/plain": [
       "<Figure size 432x288 with 1 Axes>"
      ]
     },
     "metadata": {
      "needs_background": "light"
     },
     "output_type": "display_data"
    }
   ],
   "source": [
    "#Zusammenhang zwischen Höhe und Geschwindigkeit Linechart\n",
    "plt.scatter(df_belarus[\"Altitude\"], df_belarus[\"Speed\"])"
   ]
  },
  {
   "cell_type": "code",
   "execution_count": 59,
   "metadata": {
    "pycharm": {
     "name": "#%%\n"
    }
   },
   "outputs": [
    {
     "data": {
      "text/plain": "[<matplotlib.lines.Line2D at 0x7fb3fa361ca0>]"
     },
     "execution_count": 59,
     "metadata": {},
     "output_type": "execute_result"
    },
    {
     "data": {
      "text/plain": "<Figure size 432x288 with 1 Axes>",
      "image/png": "[encoded data removed]"
     },
     "metadata": {
      "needs_background": "light"
     },
     "output_type": "display_data"
    }
   ],
   "source": [
    "df_2 = pd.DataFrame(df_belarus[\"Speed\"].unique(), columns=[\"Speed\"])\n",
    "df_2 = df_2.join(df_belarus[\"Altitude\"])\n",
    "plt.plot(df_2[\"Speed\"], df_2[\"Altitude\"])"
   ]
  },
  {
   "cell_type": "code",
   "execution_count": 55,
   "metadata": {
    "pycharm": {
     "name": "#%%\n"
    }
   },
   "outputs": [],
   "source": [
    "#Distanz berechnende Funktion\n",
    "def distance(s_lat, s_lng, e_lat, e_lng): #Source: https://stackoverflow.com/questions/4913349/haversine-formula-in-python-bearing-and-distance-between-two-gps-points\n",
    "\n",
    "   # approximate radius of earth in km\n",
    "   R = 6373.0\n",
    "\n",
    "   s_lat = s_lat*np.pi/180.0\n",
    "   s_lng = np.deg2rad(s_lng)\n",
    "   e_lat = np.deg2rad(e_lat)\n",
    "   e_lng = np.deg2rad(e_lng)\n",
    "\n",
    "   d = np.sin((e_lat - s_lat)/2)**2 + np.cos(s_lat)*np.cos(e_lat) * np.sin((e_lng - s_lng)/2)**2\n",
    "\n",
    "   return 2 * R * np.arcsin(np.sqrt(d))"
   ]
  },
  {
   "cell_type": "code",
   "execution_count": 56,
   "metadata": {
    "pycharm": {
     "name": "#%%\n"
    }
   },
   "outputs": [
    {
     "data": {
      "text/plain": [
       "[<matplotlib.lines.Line2D at 0x7fb3fa51d550>]"
      ]
     },
     "execution_count": 56,
     "metadata": {},
     "output_type": "execute_result"
    },
    {
     "data": {
      "image/png": "[encoded data removed]",
      "text/plain": [
       "<Figure size 432x288 with 1 Axes>"
      ]
     },
     "metadata": {
      "needs_background": "light"
     },
     "output_type": "display_data"
    }
   ],
   "source": [
    "xyPos = []\n",
    "\n",
    "#Erstelle Liste der Entfernungen zu jedem Zeitpunkt\n",
    "iteration = 0\n",
    "for i in df_belarus[\"Position\"]:\n",
    "    split = df_belarus[\"Position\"].get(iteration).split(',')\n",
    "    xyPos.append(distance(float(split[0]), float(split[1]), float(54.641434), float(25.28158)))\n",
    "\n",
    "    iteration += 1\n",
    "\n",
    "plt.plot(df_belarus[\"UTC\"], xyPos)"
   ]
  }
 ],
 "metadata": {
  "kernelspec": {
   "display_name": "Python 3 (ipykernel)",
   "language": "python",
   "name": "python3"
  },
  "language_info": {
   "codemirror_mode": {
    "name": "ipython",
    "version": 3
   },
   "file_extension": ".py",
   "mimetype": "text/x-python",
   "name": "python",
   "nbconvert_exporter": "python",
   "pygments_lexer": "ipython3",
   "version": "3.9.6"
  }
 },
 "nbformat": 4,
 "nbformat_minor": 1
}